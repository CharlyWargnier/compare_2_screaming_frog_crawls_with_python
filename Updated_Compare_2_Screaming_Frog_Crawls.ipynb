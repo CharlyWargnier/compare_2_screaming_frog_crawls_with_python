{
  "nbformat": 4,
  "nbformat_minor": 0,
  "metadata": {
    "colab": {
      "name": "Compare 2 Screaming Frog Crawls",
      "provenance": [],
      "collapsed_sections": [],
      "toc_visible": true
    },
    "kernelspec": {
      "name": "python3",
      "display_name": "Python 3"
    }
  },
  "cells": [
    {
      "cell_type": "markdown",
      "metadata": {
        "id": "HhjhrKettA2v",
        "colab_type": "text"
      },
      "source": [
        "\n",
        "![alt text](https://i.ibb.co/JKd0WF5/SF-Post-2.jpg)\n",
        "\n",
        "This Colab notebook allows you to compare two Screaming Frog crawls and outputs summary tables and charts of all the differences.\n",
        "\n",
        "Credit due to Alessio Nittoli [(@Nittolese)](https://https://twitter.com/nittolese) for creating the initial script. \n",
        "\n",
        "Besides these summary tables and charts, I’ve taken the script further by adding the following functionalities:\n",
        "\n",
        "*   You can now select the type of content you want to compare by:\n",
        "   - discarding redirects\n",
        "   - discarding non-HTML elements (application, PDFs, images etc.) to only focus on HTML URLs\n",
        "\n",
        "*   More [Colab forms](https://colab.research.google.com/notebooks/forms.ipynb) for easier parameterisation.\n",
        "*   Additional guidance for newcomers.\n",
        "\n",
        "More info in [my blog post](https://www.charlywargnier.com/python-script-to-compare-screaming-frog-crawls/).\n"
      ]
    },
    {
      "cell_type": "markdown",
      "metadata": {
        "colab_type": "text",
        "id": "fyM4zZHy5EYT"
      },
      "source": [
        "# Part I: Setting things up!"
      ]
    },
    {
      "cell_type": "markdown",
      "metadata": {
        "colab_type": "text",
        "id": "9CCd6VaT5EYV"
      },
      "source": [
        "## Export your crawl files from Screaming Frog"
      ]
    },
    {
      "cell_type": "markdown",
      "metadata": {
        "id": "RRywvBFUu-XP",
        "colab_type": "text"
      },
      "source": [
        "First thing first, you need to export your crawl data from Screaming Frog. We want `internall all` CSVs, which contain all per-url information.\n",
        "\n",
        "Once crawl #01 and #02 are completed go to 'internal' tab and click on the ‘export’ button located in the top-left corner:\n",
        "\n",
        "\n",
        "\n",
        "![alt text](https://i.ibb.co/VMxR8m3/2020-03-17-21-52-36.jpg)\n",
        "\n",
        "\n"
      ]
    },
    {
      "cell_type": "markdown",
      "metadata": {
        "colab_type": "text",
        "id": "h1nDGnj9xuIm"
      },
      "source": [
        "## Upload your files to Google Drive & connect Drive to Colab"
      ]
    },
    {
      "cell_type": "markdown",
      "metadata": {
        "colab_type": "text",
        "id": "oclbI7p5xuIw"
      },
      "source": [
        "Head to https://www.google.com/drive/ and drop both CSV exports in your preferred folder. \n",
        "\n",
        "Once uploaded, connect to Google Drive to Colab with this snippet of code:"
      ]
    },
    {
      "cell_type": "code",
      "metadata": {
        "id": "T7ItDxDos3Xa",
        "colab_type": "code",
        "colab": {
          "base_uri": "https://localhost:8080/",
          "height": 35
        },
        "outputId": "ad3162eb-de14-4ffb-9e13-f01be395b844"
      },
      "source": [
        "from google.colab import drive\n",
        "drive.mount('/content/drive')"
      ],
      "execution_count": null,
      "outputs": [
        {
          "output_type": "stream",
          "text": [
            "Drive already mounted at /content/drive; to attempt to forcibly remount, call drive.mount(\"/content/drive\", force_remount=True).\n"
          ],
          "name": "stdout"
        }
      ]
    },
    {
      "cell_type": "markdown",
      "metadata": {
        "colab_type": "text",
        "id": "FtYWC4621kDo"
      },
      "source": [
        "## Make the crawl folder the root path in Colab"
      ]
    },
    {
      "cell_type": "markdown",
      "metadata": {
        "colab_type": "text",
        "id": "JSl-I_LV1kDv"
      },
      "source": [
        "\n",
        "Now that Drive and Colab are linked, navigate to the folder where you uploaded your crawls via Colab's navigator:\n",
        "\n",
        "![alt text](https://i.ibb.co/yhcpp9V/2020-03-19-16-31-06.jpg)\n",
        "\n",
        "\n",
        "Then, right-click on the folder path to copy it and paste it into the Python `root_path` variable in the code cell below:"
      ]
    },
    {
      "cell_type": "code",
      "metadata": {
        "id": "s5z4iSENKlT_",
        "colab_type": "code",
        "colab": {
          "base_uri": "https://localhost:8080/",
          "height": 35
        },
        "outputId": "903b4055-4260-4f4d-c0d3-abe4b99f4a7b"
      },
      "source": [
        "root_path = '/content/drive/My Drive/Data_Science/Colab_Notebooks/Top_Python_Projects/SFrog_Compare_Tool/CSVs/'\n",
        "print(\"root_path is now: '\" + root_path + \"'\")"
      ],
      "execution_count": null,
      "outputs": [
        {
          "output_type": "stream",
          "text": [
            "root_path is now: '/content/drive/My Drive/Data_Science/Colab_Notebooks/Top_Python_Projects/SFrog_Compare_Tool/CSVs/'\n"
          ],
          "name": "stdout"
        }
      ]
    },
    {
      "cell_type": "markdown",
      "metadata": {
        "colab_type": "text",
        "id": "6K-9xbAhvVc-"
      },
      "source": [
        "## Install Pygsheets, Numpy, Pandas and Re"
      ]
    },
    {
      "cell_type": "markdown",
      "metadata": {
        "colab_type": "text",
        "id": "blmuftFDvVdc"
      },
      "source": [
        "We now need to install `pygsheets` , a Python library we'll use to interact with our Google spreadsheet, through the Google Sheets API.\n",
        "\n",
        "More info about here: https://pygsheets.readthedocs.io/en/stable/\n",
        "\n"
      ]
    },
    {
      "cell_type": "code",
      "metadata": {
        "id": "ueaN9yEZuVJz",
        "colab_type": "code",
        "colab": {}
      },
      "source": [
        "!pip install --upgrade -q pygsheets"
      ],
      "execution_count": null,
      "outputs": []
    },
    {
      "cell_type": "markdown",
      "metadata": {
        "id": "7iHBmr21v-_R",
        "colab_type": "text"
      },
      "source": [
        "Numpy, Pandas and Re are useful libraries for data manipulation. Let's import them via the code snippet below: "
      ]
    },
    {
      "cell_type": "code",
      "metadata": {
        "id": "I7bgLMsus5AE",
        "colab_type": "code",
        "colab": {}
      },
      "source": [
        "import numpy as np\n",
        "import pandas as pd\n",
        "import re #For regex manipulations"
      ],
      "execution_count": null,
      "outputs": []
    },
    {
      "cell_type": "markdown",
      "metadata": {
        "id": "UVxrumH2zfxb",
        "colab_type": "text"
      },
      "source": [
        "Then, we need to connect Colab to Google Sheets. We need an authentication key to access the Google Spreadsheet API:"
      ]
    },
    {
      "cell_type": "code",
      "metadata": {
        "id": "SDBpPMhWuDkN",
        "colab_type": "code",
        "colab": {}
      },
      "source": [
        "import google.auth\n",
        "from google.colab import auth\n",
        "\n",
        "auth.authenticate_user()\n",
        "import pygsheets\n",
        "credentials, _ = google.auth.default()\n",
        "gc = pygsheets.client.Client(credentials)"
      ],
      "execution_count": null,
      "outputs": []
    },
    {
      "cell_type": "markdown",
      "metadata": {
        "id": "-Wc3qcPVSqQf",
        "colab_type": "text"
      },
      "source": [
        "## Create a Google sheet to host your comparison data"
      ]
    },
    {
      "cell_type": "markdown",
      "metadata": {
        "id": "QR9yUsNEzyS_",
        "colab_type": "text"
      },
      "source": [
        "Let's create a Google sheet and give it a name via the form below:"
      ]
    },
    {
      "cell_type": "code",
      "metadata": {
        "id": "cNIT1gdquLez",
        "colab_type": "code",
        "cellView": "form",
        "colab": {}
      },
      "source": [
        "sh_name = 'file_name' #@param {type:\"string\"}\n",
        "sh = gc.create(sh_name)"
      ],
      "execution_count": null,
      "outputs": []
    },
    {
      "cell_type": "markdown",
      "metadata": {
        "id": "n_CRBSLUBvfC",
        "colab_type": "text"
      },
      "source": [
        "Note that this new sheet will be located in the root folder of your Google Drive"
      ]
    },
    {
      "cell_type": "markdown",
      "metadata": {
        "id": "-LJcbXqFDU10",
        "colab_type": "text"
      },
      "source": [
        "## Convert your CSVs to Pandas Dataframes"
      ]
    },
    {
      "cell_type": "markdown",
      "metadata": {
        "colab_type": "text",
        "id": "-QnvZXP1eiZQ"
      },
      "source": [
        "Add the names of your CSV files in the form fields below (no need to add the .csv extension).\n",
        "\n",
        "These files are located in your crawl folder. You can check all the files located in your crawl folder via the Unix command `ls`:"
      ]
    },
    {
      "cell_type": "code",
      "metadata": {
        "id": "2ClHSQ2Is9IS",
        "colab_type": "code",
        "colab": {
          "base_uri": "https://localhost:8080/",
          "height": 141
        },
        "outputId": "560fff0d-8ffb-40a9-8b18-f2533c343b1d"
      },
      "source": [
        "!ls -lah drive/My\\ Drive/Data_Science/Colab_Notebooks/Top_Python_Projects/SFrog_Compare_Tool/CSVs"
      ],
      "execution_count": null,
      "outputs": [
        {
          "output_type": "stream",
          "text": [
            "total 8.3M\n",
            "drwx------ 2 root root 4.0K Dec  4 18:29  Archives\n",
            "-rw------- 1 root root 3.6M Mar 21 20:15  internal_all_new.csv\n",
            "-rw------- 1 root root 4.7M Mar 21 20:15  internal_all_previous.csv\n",
            "drwx------ 2 root root 4.0K Mar 20 10:39  Misc\n",
            "drwx------ 2 root root 4.0K Mar 21 20:08 'Valid yet non retained crawls'\n",
            "drwx------ 2 root root 4.0K Mar 21 20:14 'VHOLS crawls'\n"
          ],
          "name": "stdout"
        }
      ]
    },
    {
      "cell_type": "code",
      "metadata": {
        "id": "sGmc4gkMzzaR",
        "colab_type": "code",
        "cellView": "form",
        "colab": {}
      },
      "source": [
        "Previous_CSV = 'internal_all_new' #@param {type:\"string\"}\n",
        "Current_CSV = 'internal_all_previous' #@param {type:\"string\"}"
      ],
      "execution_count": null,
      "outputs": []
    },
    {
      "cell_type": "markdown",
      "metadata": {
        "id": "dw6OedAD2Mu_",
        "colab_type": "text"
      },
      "source": [
        "The code cell below will convert both CSVs to Pandas dataframes, called `df_prev` and `df_current` respectively.\n",
        "\n"
      ]
    },
    {
      "cell_type": "code",
      "metadata": {
        "id": "G6-B9LO2JZzh",
        "colab_type": "code",
        "colab": {}
      },
      "source": [
        "df_prev = pd.read_csv(root_path+Previous_CSV+'.csv',header=1, low_memory=True)\n",
        "df_current = pd.read_csv(root_path+Current_CSV+'.csv',header=1, low_memory=True)"
      ],
      "execution_count": null,
      "outputs": []
    },
    {
      "cell_type": "markdown",
      "metadata": {
        "id": "ZnbmV1H_bpbI",
        "colab_type": "text"
      },
      "source": [
        "## Select which type of content you want to compare\n",
        "\n",
        "Via the form below you can discard redirects and/or non HTML elements (application, PDFs, images etc.) from the comparison:\n",
        "\n",
        "\n"
      ]
    },
    {
      "cell_type": "code",
      "metadata": {
        "id": "I5PbImxS3sJd",
        "colab_type": "code",
        "cellView": "form",
        "colab": {
          "base_uri": "https://localhost:8080/",
          "height": 35
        },
        "outputId": "b52f6944-9fe4-4722-f782-dff598c56450"
      },
      "source": [
        "#Classifier for df_prev\n",
        "df_prev['Content'].fillna('Misc', inplace=True)\n",
        "df_prev = df_prev.rename(columns={\"Status Code\": \"StatusCode\"})\n",
        "df_prev['StatusCode'] = df_prev['StatusCode'].apply(str)\n",
        "\n",
        "df_prev['ContentClass'] = pd.np.where(df_prev.Content.str.contains(\"html\"), 'HTML URLs',\n",
        "      pd.np.where(df_prev.StatusCode.str.contains(\"^3.*\"), 'Redirect','Other'))\n",
        "\n",
        "#Classifier for df_current\n",
        "df_current['Content'].fillna('Misc', inplace=True)\n",
        "df_current = df_current.rename(columns={\"Status Code\": \"StatusCode\"})\n",
        "df_current['StatusCode'] = df_current['StatusCode'].apply(str)\n",
        "\n",
        "df_current['ContentClass'] = pd.np.where(df_current.Content.str.contains(\"html\"), 'HTML URLs',\n",
        "      pd.np.where(df_current.StatusCode.str.contains(\"^3.*\"), 'Redirect','Other'))\n",
        "\n",
        "myNewList = []\n",
        "\n",
        "Remove_redirects = False  # @param {type:\"boolean\"}\n",
        "Remove_non_html = False  # @param {type:\"boolean\"}\n",
        "\n",
        "if Remove_redirects == True:\n",
        "    myNewList.append('Redirect')\n",
        "if Remove_non_html == True:\n",
        "    myNewList.append('Other')\n",
        "\n",
        "print (myNewList)\n",
        "\n",
        "current = df_current[~df_current['ContentClass'].isin(myNewList)]\n",
        "previous = df_prev[~df_prev['ContentClass'].isin(myNewList)]\n"
      ],
      "execution_count": null,
      "outputs": [
        {
          "output_type": "stream",
          "text": [
            "[]\n"
          ],
          "name": "stdout"
        }
      ]
    },
    {
      "cell_type": "markdown",
      "metadata": {
        "id": "qXORRQ3Cs9xz",
        "colab_type": "text"
      },
      "source": [
        "Now that we're all set, let's start gathering crawl changes!"
      ]
    },
    {
      "cell_type": "markdown",
      "metadata": {
        "id": "JvzW75fBbMlI",
        "colab_type": "text"
      },
      "source": [
        "# Part II: Gathering crawl changes"
      ]
    },
    {
      "cell_type": "markdown",
      "metadata": {
        "id": "SZEfGFLfDOTz",
        "colab_type": "text"
      },
      "source": [
        "## New found pages\n",
        "\n"
      ]
    },
    {
      "cell_type": "markdown",
      "metadata": {
        "id": "2KGq7r_20Mho",
        "colab_type": "text"
      },
      "source": [
        "Via Python's function `pd.merge` we are going to merge the previous and current reports using as their common key the URLs.\n",
        "\n",
        "For more about this [check the docs](https://pandas.pydata.org/pandas-docs/stable/user_guide/merging.html) ."
      ]
    },
    {
      "cell_type": "code",
      "metadata": {
        "id": "gsMV724ItzQ8",
        "colab_type": "code",
        "colab": {}
      },
      "source": [
        "pre_current_master = pd.merge(previous,\\\n",
        "                            current,\\\n",
        "                            suffixes=('_prev', '_current'),\\\n",
        "                            on='Address',\\\n",
        "                            how='outer')"
      ],
      "execution_count": null,
      "outputs": []
    },
    {
      "cell_type": "markdown",
      "metadata": {
        "id": "umV1Virb0iV7",
        "colab_type": "text"
      },
      "source": [
        "We'll filter out all null values."
      ]
    },
    {
      "cell_type": "code",
      "metadata": {
        "id": "S5aQ5cjlt0yM",
        "colab_type": "code",
        "colab": {}
      },
      "source": [
        "_new_found_pages = pre_current_master[pre_current_master['StatusCode_prev'].isna()]"
      ],
      "execution_count": null,
      "outputs": []
    },
    {
      "cell_type": "markdown",
      "metadata": {
        "id": "9fDOjGz50m_B",
        "colab_type": "text"
      },
      "source": [
        "And keep only the columns that contains `_current` (from the latest crawl) and `Address`. "
      ]
    },
    {
      "cell_type": "code",
      "metadata": {
        "id": "Saqxnzqlt4l2",
        "colab_type": "code",
        "colab": {}
      },
      "source": [
        "new_found_pages = _new_found_pages.filter(regex='Address|\\_current')"
      ],
      "execution_count": null,
      "outputs": []
    },
    {
      "cell_type": "markdown",
      "metadata": {
        "id": "oI_ZgEUXFbXh",
        "colab_type": "text"
      },
      "source": [
        "Now we're going to evaluate if the `new_found_pages` DataFrame is empty. If not, we are going to create a new worksheet and append the DataFrame."
      ]
    },
    {
      "cell_type": "code",
      "metadata": {
        "id": "EzAB0eJmFHrO",
        "colab_type": "code",
        "colab": {}
      },
      "source": [
        "if len(new_found_pages['Address'].tolist()) == 0:\n",
        "  print('No changes detected!')\n",
        "else:\n",
        "  #Now we need to select the first Sheet in our Spreadsheet. \n",
        "  #To access it, we need to select it through an index (0-based).\n",
        "  wks = sh[0]\n",
        "  #set_dataframe is a method that injects a DataFrame into a spreadsheet. \n",
        "  #The first argument is the DF and the second arg is the cell where we start filling.\n",
        "  wks.set_dataframe(new_found_pages, 'A1',fit=True)\n",
        "  #We can also change the title of our worksheet, in this way\n",
        "  sh.sheet1.title=\"New Found Pages\""
      ],
      "execution_count": null,
      "outputs": []
    },
    {
      "cell_type": "markdown",
      "metadata": {
        "id": "i83p2c8NBjdA",
        "colab_type": "text"
      },
      "source": [
        "## Newly lost pages"
      ]
    },
    {
      "cell_type": "code",
      "metadata": {
        "id": "GjKIe2SlB4IV",
        "colab_type": "code",
        "colab": {}
      },
      "source": [
        "_new_lost_pages = pre_current_master[pre_current_master['StatusCode_current'].isna()]"
      ],
      "execution_count": null,
      "outputs": []
    },
    {
      "cell_type": "code",
      "metadata": {
        "id": "RbXBySPyLAl_",
        "colab_type": "code",
        "colab": {}
      },
      "source": [
        "new_lost_pages = _new_lost_pages.filter(regex='Address|\\_prev')"
      ],
      "execution_count": null,
      "outputs": []
    },
    {
      "cell_type": "code",
      "metadata": {
        "id": "ngKu-aInFtGA",
        "colab_type": "code",
        "colab": {}
      },
      "source": [
        "if len(new_lost_pages['Address'].tolist()) == 0:\n",
        "  print('No changes detected!')\n",
        "else:\n",
        "  #Now let's add a new worksheet with a title\n",
        "  wks = sh.add_worksheet('New Lost Pages')\n",
        "  #Append a DataFrame in our new worksheet\n",
        "  wks.set_dataframe(new_lost_pages, 'A1',fit=True)"
      ],
      "execution_count": null,
      "outputs": []
    },
    {
      "cell_type": "markdown",
      "metadata": {
        "id": "xFS9Tr_6CRPD",
        "colab_type": "text"
      },
      "source": [
        "## Changed status codes"
      ]
    },
    {
      "cell_type": "code",
      "metadata": {
        "id": "Q2dpHyJ7CUwC",
        "colab_type": "code",
        "colab": {}
      },
      "source": [
        "_changed_status_code = pd.merge(df_prev[['Address','StatusCode']],\\\n",
        "                                df_current[['Address','StatusCode']],\\\n",
        "                                suffixes=('_prev', '_current'),\\\n",
        "                                on='Address',\\\n",
        "                                how='inner')\n",
        "\n",
        "_changed_status_code['diff'] = np.where(_changed_status_code['StatusCode_prev'] == _changed_status_code['StatusCode_current'], 'no change', 'changed')\n",
        "_changed_status_code\n",
        "\n",
        "changed_status_code = _changed_status_code[_changed_status_code['diff'] == 'changed']"
      ],
      "execution_count": null,
      "outputs": []
    },
    {
      "cell_type": "code",
      "metadata": {
        "id": "Y3b-_kWfGAHe",
        "colab_type": "code",
        "colab": {}
      },
      "source": [
        "if len(changed_status_code['Address'].tolist()) == 0:\n",
        "  print('No changes detected!')\n",
        "else:\n",
        "  #Now let's add a new worksheet with a title\n",
        "  wks = sh.add_worksheet('Changed Status Code')\n",
        "  #Append a DataFrame in our new worksheet\n",
        "  wks.set_dataframe(changed_status_code, 'A1',fit=True)"
      ],
      "execution_count": null,
      "outputs": []
    },
    {
      "cell_type": "markdown",
      "metadata": {
        "id": "DWZ-TYJ-CiFb",
        "colab_type": "text"
      },
      "source": [
        "## Changed indexation "
      ]
    },
    {
      "cell_type": "code",
      "metadata": {
        "id": "ikNX2ocrCht8",
        "colab_type": "code",
        "colab": {}
      },
      "source": [
        "_changed_indexation = pd.merge(previous[['Address','StatusCode', 'Indexability','Indexability Status']],\\\n",
        "                                current[['Address','StatusCode', 'Indexability','Indexability Status']],\\\n",
        "                                suffixes=('_prev', '_current'), on='Address', how='inner')"
      ],
      "execution_count": null,
      "outputs": []
    },
    {
      "cell_type": "code",
      "metadata": {
        "id": "6b_-05ZLCk4n",
        "colab_type": "code",
        "colab": {}
      },
      "source": [
        "_changed_indexation['diff'] = np.where(_changed_indexation['Indexability_prev'] == _changed_indexation['Indexability_current'], 'no change', 'changed')"
      ],
      "execution_count": null,
      "outputs": []
    },
    {
      "cell_type": "code",
      "metadata": {
        "id": "TjkLgTbBCm5s",
        "colab_type": "code",
        "colab": {}
      },
      "source": [
        "#Dataframe containing 'changed' AND 'unchanged'\n",
        "changed_indexation_all = _changed_indexation[['Address','Indexability_prev','Indexability Status_prev','Indexability_current','Indexability Status_current','diff']]"
      ],
      "execution_count": null,
      "outputs": []
    },
    {
      "cell_type": "code",
      "metadata": {
        "id": "Wj7i3IOeCqLb",
        "colab_type": "code",
        "colab": {}
      },
      "source": [
        "##Dataframe containing only 'changed' elements\n",
        "changed_indexation = changed_indexation_all[changed_indexation_all['diff'] == 'changed']"
      ],
      "execution_count": null,
      "outputs": []
    },
    {
      "cell_type": "code",
      "metadata": {
        "id": "y-LN6s5EGIFq",
        "colab_type": "code",
        "colab": {}
      },
      "source": [
        "if len(changed_indexation['Address'].tolist()) == 0:\n",
        "  print('No changes detected!')\n",
        "else:\n",
        "  #Now let's add a new worksheet with a title\n",
        "  wks = sh.add_worksheet('Changed Indexation')\n",
        "  #Append a DataFrame in our new worksheet\n",
        "  wks.set_dataframe(changed_indexation, 'A1',fit=True)"
      ],
      "execution_count": null,
      "outputs": []
    },
    {
      "cell_type": "markdown",
      "metadata": {
        "id": "30Ccen5xDiZm",
        "colab_type": "text"
      },
      "source": [
        "## Changed canonicals\n",
        "\n"
      ]
    },
    {
      "cell_type": "code",
      "metadata": {
        "id": "DHEKnHeaaLsi",
        "colab_type": "code",
        "colab": {}
      },
      "source": [
        "#*_all* dataframes are used for the Crawl Master tab.\n",
        "#non *_all* dataframes are used for changes tab (individual tabs). Drop.na removes removes NaN, thus removes 'unchanged' elements\n",
        "\n",
        "changed_cano_all = pd.merge(previous[['Address','StatusCode','Canonical Link Element 1']],current[['Address','StatusCode','Canonical Link Element 1']],\\\n",
        "                               suffixes=('_prev', '_current'), on='Address', how='inner')\n",
        "\n",
        "changed_cano_all.fillna(\"No value\", inplace = True)\n",
        "changed_cano_all['diff_cano'] = np.where(changed_cano_all['Canonical Link Element 1_prev'] == changed_cano_all['Canonical Link Element 1_current'], 'no change', 'changed')\n",
        "changed_cano_all = changed_cano_all[~changed_cano_all['Canonical Link Element 1_current'].str.contains('No value', na=False)]"
      ],
      "execution_count": null,
      "outputs": []
    },
    {
      "cell_type": "code",
      "metadata": {
        "id": "SXXq3t_DDkHG",
        "colab_type": "code",
        "colab": {}
      },
      "source": [
        "_changed_canonical = pd.merge(previous[['Address','StatusCode','Canonical Link Element 1']],current[['Address','StatusCode','Canonical Link Element 1']],\\\n",
        "                               suffixes=('_prev', '_current'), on='Address', how='inner')"
      ],
      "execution_count": null,
      "outputs": []
    },
    {
      "cell_type": "code",
      "metadata": {
        "id": "HPzzMWiAEp1E",
        "colab_type": "code",
        "colab": {}
      },
      "source": [
        "_changed_canonical.replace(np.nan, '', regex=True, inplace=True)"
      ],
      "execution_count": null,
      "outputs": []
    },
    {
      "cell_type": "code",
      "metadata": {
        "id": "JKQhLbBJEQ43",
        "colab_type": "code",
        "colab": {}
      },
      "source": [
        "_changed_canonical['diff_canonical'] = np.where(_changed_canonical['Canonical Link Element 1_prev'] == _changed_canonical['Canonical Link Element 1_current'], 'no change', 'changed')"
      ],
      "execution_count": null,
      "outputs": []
    },
    {
      "cell_type": "code",
      "metadata": {
        "id": "0HtOFjYvEYJ0",
        "colab_type": "code",
        "colab": {}
      },
      "source": [
        "changed_canonical = _changed_canonical[_changed_canonical['diff_canonical'] == 'changed']"
      ],
      "execution_count": null,
      "outputs": []
    },
    {
      "cell_type": "code",
      "metadata": {
        "id": "OmEtrEY4Hbnv",
        "colab_type": "code",
        "colab": {}
      },
      "source": [
        "if len(changed_canonical['Address'].tolist()) == 0:\n",
        "  print('No changes detected!')\n",
        "else:\n",
        "  #Now let's add a new worksheet with a title\n",
        "  wks = sh.add_worksheet('Changed Canonicals')\n",
        "  #Append a DataFrame in our new worksheet\n",
        "  wks.set_dataframe(changed_canonical, 'A1',fit=True)"
      ],
      "execution_count": null,
      "outputs": []
    },
    {
      "cell_type": "markdown",
      "metadata": {
        "id": "y5AgEV1ujc8z",
        "colab_type": "text"
      },
      "source": [
        "## Changed meta titles"
      ]
    },
    {
      "cell_type": "code",
      "metadata": {
        "id": "QRq7AtObkSNE",
        "colab_type": "code",
        "colab": {}
      },
      "source": [
        "_changed_meta = pd.merge(previous[['Address','Title 1', 'Meta Description 1']],\\\n",
        "                                current[['Address','Title 1', 'Meta Description 1']],\\\n",
        "                                suffixes=('_prev', '_current'), on='Address', how='inner')"
      ],
      "execution_count": null,
      "outputs": []
    },
    {
      "cell_type": "code",
      "metadata": {
        "id": "21XPnB4_C5lH",
        "colab_type": "code",
        "colab": {}
      },
      "source": [
        "_changed_meta.fillna(\"No value\", inplace = True)\n",
        "_changed_meta['diff_title'] = np.where(_changed_meta['Title 1_prev'] == _changed_meta['Title 1_current'], 'no change', 'changed')\n",
        "changed_title_all = _changed_meta.filter(regex='Address|^Title.+|diff\\_title')\n",
        "changed_title_all = changed_title_all[~changed_title_all['Title 1_current'].str.contains('No value', na=False)]"
      ],
      "execution_count": null,
      "outputs": []
    },
    {
      "cell_type": "code",
      "metadata": {
        "id": "sGOBOrknDCMk",
        "colab_type": "code",
        "colab": {}
      },
      "source": [
        "changed_title = _changed_meta[_changed_meta['diff_title'] == 'changed'].dropna().filter(regex='Address|^Title.+|diff\\_title')"
      ],
      "execution_count": null,
      "outputs": []
    },
    {
      "cell_type": "code",
      "metadata": {
        "id": "FiiwY5fsGN9h",
        "colab_type": "code",
        "colab": {}
      },
      "source": [
        "if len(changed_title['Address'].tolist()) == 0:\n",
        "  print('No changes detected!')\n",
        "else:\n",
        "  #Now let's add a new worksheet with a title\n",
        "  wks = sh.add_worksheet('Changed Title')\n",
        "  #Append a DataFrame in our new worksheet\n",
        "  wks.set_dataframe(changed_title, 'A1',fit=True)"
      ],
      "execution_count": null,
      "outputs": []
    },
    {
      "cell_type": "markdown",
      "metadata": {
        "colab_type": "text",
        "id": "uqkLNpq2kKPA"
      },
      "source": [
        "## Changed meta descriptions\n"
      ]
    },
    {
      "cell_type": "code",
      "metadata": {
        "id": "5gtzpf6LMUCO",
        "colab_type": "code",
        "colab": {}
      },
      "source": [
        "_changed_meta['diff_desc'] = np.where(_changed_meta['Meta Description 1_prev'] == _changed_meta['Meta Description 1_current'], 'no change', 'changed')"
      ],
      "execution_count": null,
      "outputs": []
    },
    {
      "cell_type": "code",
      "metadata": {
        "id": "r21aZqohDHBA",
        "colab_type": "code",
        "colab": {}
      },
      "source": [
        "changed_desc_all = _changed_meta.filter(regex='Address|.+Description.+|diff\\_desc')\n",
        "changed_desc_all = changed_desc_all[~changed_desc_all['Meta Description 1_current'].str.contains('No value', na=False)]"
      ],
      "execution_count": null,
      "outputs": []
    },
    {
      "cell_type": "code",
      "metadata": {
        "id": "BHKGhcIIfWAs",
        "colab_type": "code",
        "colab": {}
      },
      "source": [
        "changed_desc = _changed_meta[_changed_meta['diff_desc'] == 'changed'].dropna().filter(regex='Address|.+Description.+|diff\\_desc')"
      ],
      "execution_count": null,
      "outputs": []
    },
    {
      "cell_type": "code",
      "metadata": {
        "id": "fHdnoxj9HHQa",
        "colab_type": "code",
        "colab": {}
      },
      "source": [
        "if len(changed_desc['Address'].tolist()) == 0:\n",
        "  print('No changes detected!')\n",
        "else:\n",
        "  #Now let's add a new worksheet with a title\n",
        "  wks = sh.add_worksheet('Changed Description')\n",
        "  #Append a DataFrame in our new worksheet\n",
        "  wks.set_dataframe(changed_desc, 'A1',fit=True)"
      ],
      "execution_count": null,
      "outputs": []
    },
    {
      "cell_type": "markdown",
      "metadata": {
        "id": "9lZnpIwzDJHS",
        "colab_type": "text"
      },
      "source": [
        "## Changed H1 tags"
      ]
    },
    {
      "cell_type": "code",
      "metadata": {
        "id": "dDBqd8m7IlEl",
        "colab_type": "code",
        "colab": {}
      },
      "source": [
        "changed_h1_all = pd.merge(previous.filter(regex='Address|^H1\\-\\d{1,2}$'),\\\n",
        "                            current.filter(regex='Address|^H1\\-\\d{1,2}$'),\\\n",
        "                            suffixes=('_prev', '_current'),\\\n",
        "                            on='Address',\\\n",
        "                            how='inner')\n",
        "\n",
        "changed_h1_all.fillna(\"No value\", inplace = True)\n",
        "changed_h1_all = changed_h1_all[~changed_h1_all['H1-1_current'].str.contains('No value', na=False)]\n",
        "changed_h1_all['diff_h1'] = np.where(changed_h1_all['H1-1_prev'] == changed_h1_all['H1-1_current'], 'no change', 'changed')"
      ],
      "execution_count": null,
      "outputs": []
    },
    {
      "cell_type": "code",
      "metadata": {
        "id": "BWUWFws-DXat",
        "colab_type": "code",
        "colab": {}
      },
      "source": [
        "changed_h1 = pd.merge(previous.filter(regex='Address|^H1\\-\\d{1,2}$').dropna(thresh=3),\\\n",
        "                            current.filter(regex='Address|^H1\\-\\d{1,2}$').dropna(thresh=3),\\\n",
        "                            suffixes=('_prev', '_current'),\\\n",
        "                            on='Address',\\\n",
        "                            how='inner')"
      ],
      "execution_count": null,
      "outputs": []
    },
    {
      "cell_type": "code",
      "metadata": {
        "id": "ZaD3yEqHDZUO",
        "colab_type": "code",
        "colab": {}
      },
      "source": [
        "changed_h1.replace(np.nan, '', regex=True, inplace=True)"
      ],
      "execution_count": null,
      "outputs": []
    },
    {
      "cell_type": "code",
      "metadata": {
        "id": "4tFieyPuDkTb",
        "colab_type": "code",
        "colab": {}
      },
      "source": [
        "changed_h1_cols = current.filter(regex='Address|^H1\\-\\d{1,2}$').dropna(thresh=3).columns.tolist()"
      ],
      "execution_count": null,
      "outputs": []
    },
    {
      "cell_type": "code",
      "metadata": {
        "id": "4vWYn3RKDamy",
        "colab_type": "code",
        "colab": {}
      },
      "source": [
        "r = re.compile(\"^H1\\-\\d{1,2}\")"
      ],
      "execution_count": null,
      "outputs": []
    },
    {
      "cell_type": "code",
      "metadata": {
        "id": "sTHj1UiPDfbK",
        "colab_type": "code",
        "colab": {}
      },
      "source": [
        "newlist = list(filter(r.match, changed_h1_cols))"
      ],
      "execution_count": null,
      "outputs": []
    },
    {
      "cell_type": "code",
      "metadata": {
        "id": "drlYqQBsDm1Y",
        "colab_type": "code",
        "colab": {}
      },
      "source": [
        "for i in range(1,len(newlist)+1):\n",
        "    new_diff = \"H1-\"+str(i)\n",
        "    new = f\"{new_diff}_current\"\n",
        "    old = f\"{new_diff}_prev\"\n",
        "    _tmp = f\"diff-{new_diff}\"\n",
        "    changed_h1[_tmp] = changed_h1[new] != changed_h1[old]"
      ],
      "execution_count": null,
      "outputs": []
    },
    {
      "cell_type": "code",
      "metadata": {
        "id": "0R-tv-U2Do1B",
        "colab_type": "code",
        "colab": {}
      },
      "source": [
        "changed_h1.columns =[column.replace(\"-\", \"_\") for column in changed_h1.columns] "
      ],
      "execution_count": null,
      "outputs": []
    },
    {
      "cell_type": "code",
      "metadata": {
        "id": "3Nn6epaeDqKF",
        "colab_type": "code",
        "colab": {}
      },
      "source": [
        "diff_col_lst = changed_h1.filter(regex='diff\\_H1').columns.tolist()"
      ],
      "execution_count": null,
      "outputs": []
    },
    {
      "cell_type": "code",
      "metadata": {
        "id": "ZukFnhiyDrkp",
        "colab_type": "code",
        "colab": {}
      },
      "source": [
        "exp = ' or '.join(diff_col_lst)"
      ],
      "execution_count": null,
      "outputs": []
    },
    {
      "cell_type": "code",
      "metadata": {
        "id": "zNjvc8gjDsIE",
        "colab_type": "code",
        "colab": {}
      },
      "source": [
        "changed_h1 = changed_h1.query(exp)"
      ],
      "execution_count": null,
      "outputs": []
    },
    {
      "cell_type": "code",
      "metadata": {
        "id": "IsIOeKHgHRQf",
        "colab_type": "code",
        "colab": {}
      },
      "source": [
        "if len(changed_h1['Address'].tolist()) == 0:\n",
        "  print('No changes detected!')\n",
        "else:\n",
        "  #Now let's add a new worksheet with a title\n",
        "  wks = sh.add_worksheet('Changed H1')\n",
        "  #Append a DataFrame in our new worksheet\n",
        "  wks.set_dataframe(changed_h1, 'A1',fit=True)"
      ],
      "execution_count": null,
      "outputs": []
    },
    {
      "cell_type": "markdown",
      "metadata": {
        "id": "JTjEe-2WDutP",
        "colab_type": "text"
      },
      "source": [
        "## Changed H2 tags"
      ]
    },
    {
      "cell_type": "code",
      "metadata": {
        "id": "pYGUPKSxxXQR",
        "colab_type": "code",
        "colab": {}
      },
      "source": [
        "changed_h2_1_all = pd.merge(previous.filter(regex='Address|^H2\\-\\d{1,2}$'),\\\n",
        "                            current.filter(regex='Address|^H2\\-\\d{1,2}$'),\\\n",
        "                            suffixes=('_prev', '_current'),\\\n",
        "                            on='Address',\\\n",
        "                            how='inner')\n",
        "\n",
        "changed_h2_1_all.fillna(\"No value\", inplace = True)\n",
        "changed_h2_1_all = changed_h2_1_all[~changed_h2_1_all['H2-1_current'].str.contains('No value', na=False)]\n",
        "changed_h2_1_all['diff_h2_1'] = np.where(changed_h2_1_all['H2-1_prev'] == changed_h2_1_all['H2-1_current'], 'no change', 'changed')"
      ],
      "execution_count": null,
      "outputs": []
    },
    {
      "cell_type": "code",
      "metadata": {
        "id": "SsxF388lzOAH",
        "colab_type": "code",
        "colab": {}
      },
      "source": [
        "changed_h2_2_all = pd.merge(previous.filter(regex='Address|^H2\\-\\d{1,2}$'),\\\n",
        "                            current.filter(regex='Address|^H2\\-\\d{1,2}$'),\\\n",
        "                            suffixes=('_prev', '_current'),\\\n",
        "                            on='Address',\\\n",
        "                            how='inner')\n",
        "\n",
        "changed_h2_2_all.fillna(\"No value\", inplace = True)\n",
        "\n",
        "changed_h2_2_all = changed_h2_2_all[~changed_h2_2_all['H2-2_current'].str.contains('No value', na=False)]\n",
        "changed_h2_2_all['diff_h2_2'] = np.where(changed_h2_2_all['H2-2_prev'] == changed_h2_2_all['H2-2_current'], 'no change', 'changed')"
      ],
      "execution_count": null,
      "outputs": []
    },
    {
      "cell_type": "code",
      "metadata": {
        "id": "_IyLthXZD0UI",
        "colab_type": "code",
        "colab": {}
      },
      "source": [
        "changed_h2 = pd.merge(previous.filter(regex='Address|^H2\\-\\d{1,2}$').dropna(thresh=3),\\\n",
        "                current.filter(regex='Address|^H2\\-\\d{1,2}$').dropna(thresh=3),\\\n",
        "                suffixes=('_prev', '_current'),\\\n",
        "                on='Address',\\\n",
        "                how='inner')"
      ],
      "execution_count": null,
      "outputs": []
    },
    {
      "cell_type": "code",
      "metadata": {
        "id": "YOAdK1nbD4Xr",
        "colab_type": "code",
        "colab": {}
      },
      "source": [
        "changed_h2.replace(np.nan, '', regex=True, inplace=True)"
      ],
      "execution_count": null,
      "outputs": []
    },
    {
      "cell_type": "code",
      "metadata": {
        "id": "d8WvhqKCD6o3",
        "colab_type": "code",
        "colab": {}
      },
      "source": [
        "changed_h2_cols = current.filter(regex='Address|^H2\\-\\d{1,2}$').dropna(thresh=3).columns.tolist()"
      ],
      "execution_count": null,
      "outputs": []
    },
    {
      "cell_type": "code",
      "metadata": {
        "id": "qxbnmaKFD7y9",
        "colab_type": "code",
        "colab": {}
      },
      "source": [
        "r = re.compile(\"^H2\\-\\d{1,2}\")"
      ],
      "execution_count": null,
      "outputs": []
    },
    {
      "cell_type": "code",
      "metadata": {
        "id": "zvlbkuRKD9Zu",
        "colab_type": "code",
        "colab": {}
      },
      "source": [
        "newlist = list(filter(r.match, changed_h2_cols))"
      ],
      "execution_count": null,
      "outputs": []
    },
    {
      "cell_type": "code",
      "metadata": {
        "id": "9IOdFsW8D-DV",
        "colab_type": "code",
        "colab": {}
      },
      "source": [
        "for i in range(1,len(newlist)+1):\n",
        "    new_diff = \"H2-\"+str(i)\n",
        "    new = f\"{new_diff}_current\"\n",
        "    old = f\"{new_diff}_prev\"\n",
        "    _tmp = f\"diff-{new_diff}\"\n",
        "    changed_h2[_tmp] = changed_h2[new] != changed_h2[old]"
      ],
      "execution_count": null,
      "outputs": []
    },
    {
      "cell_type": "code",
      "metadata": {
        "id": "c2m_JmZ7EA1H",
        "colab_type": "code",
        "colab": {}
      },
      "source": [
        "changed_h2.columns =[column.replace(\"-\", \"_\") for column in changed_h2.columns] "
      ],
      "execution_count": null,
      "outputs": []
    },
    {
      "cell_type": "code",
      "metadata": {
        "id": "F7WQFyoWECG9",
        "colab_type": "code",
        "colab": {}
      },
      "source": [
        "diff_col_lst = changed_h2.filter(regex='diff\\_H2').columns.tolist()"
      ],
      "execution_count": null,
      "outputs": []
    },
    {
      "cell_type": "code",
      "metadata": {
        "id": "OPLFvnRmEDU2",
        "colab_type": "code",
        "colab": {}
      },
      "source": [
        "exp = ' or '.join(diff_col_lst)"
      ],
      "execution_count": null,
      "outputs": []
    },
    {
      "cell_type": "code",
      "metadata": {
        "id": "KQTG5TEwEEyg",
        "colab_type": "code",
        "colab": {}
      },
      "source": [
        "changed_h2 = changed_h2.query(exp)"
      ],
      "execution_count": null,
      "outputs": []
    },
    {
      "cell_type": "code",
      "metadata": {
        "id": "Hv-tKVlsHWK7",
        "colab_type": "code",
        "colab": {}
      },
      "source": [
        "if len(changed_h2['Address'].tolist()) == 0:\n",
        "  print('No changes detected!')\n",
        "else:\n",
        "  #Now let's add a new worksheet with a title\n",
        "  wks = sh.add_worksheet('Changed H2')\n",
        "  #Append a DataFrame in our new worksheet\n",
        "  wks.set_dataframe(changed_h2, 'A1',fit=True)"
      ],
      "execution_count": null,
      "outputs": []
    },
    {
      "cell_type": "markdown",
      "metadata": {
        "colab_type": "text",
        "id": "gyRLdTZTycFJ"
      },
      "source": [
        "# Part III: Aggregating all crawl changes in a Master sheet"
      ]
    },
    {
      "cell_type": "markdown",
      "metadata": {
        "id": "3KEh99f6KYIn",
        "colab_type": "text"
      },
      "source": [
        "In this section, we'll create a Master sheet called `Crawl Master` (located in tab 01), containing aggregated tables & charts for each tab/report.\n",
        "\n"
      ]
    },
    {
      "cell_type": "markdown",
      "metadata": {
        "id": "u-jNrvD5AJQ0",
        "colab_type": "text"
      },
      "source": [
        "##Status codes overview"
      ]
    },
    {
      "cell_type": "markdown",
      "metadata": {
        "id": "v3jeZLxMKmG0",
        "colab_type": "text"
      },
      "source": [
        "Create an aggregated table for 'previous' status codes count.\n"
      ]
    },
    {
      "cell_type": "code",
      "metadata": {
        "colab_type": "code",
        "id": "dWOdLc_DaAv2",
        "colab": {}
      },
      "source": [
        "#Create a pivot table for previous status codes\n",
        "pivot_table_pre = pd.pivot_table(_changed_status_code, index='StatusCode_prev', aggfunc='count')\n",
        "#Rename Index\n",
        "pivot_table_pre = pivot_table_pre.rename_axis(None, axis=1).rename_axis('Status Code', axis=0)\n",
        "#Delete/Rename columns  \n",
        "del pivot_table_pre['diff']\n",
        "del pivot_table_pre['StatusCode_current']\n",
        "pivot_table_pre.rename(columns={'Address':'Count'}, inplace=True)"
      ],
      "execution_count": null,
      "outputs": []
    },
    {
      "cell_type": "markdown",
      "metadata": {
        "id": "QFZ_PYfLKt-s",
        "colab_type": "text"
      },
      "source": [
        "Create an aggregated table for 'current' status codes count.\n"
      ]
    },
    {
      "cell_type": "code",
      "metadata": {
        "id": "hyGn8IpNZFwx",
        "colab_type": "code",
        "colab": {}
      },
      "source": [
        "#Create a pivot table for current status codes\n",
        "pivot_table_current = pd.pivot_table(_changed_status_code, index='StatusCode_current', aggfunc='count')\n",
        "#Rename Index\n",
        "pivot_table_current = pivot_table_current.rename_axis(None, axis=1).rename_axis('Status Code', axis=0)\n",
        "#Delete/Rename columns  \n",
        "del pivot_table_current['diff']\n",
        "del pivot_table_current['StatusCode_prev']\n",
        "pivot_table_current.rename(columns={'Address':'Count'}, inplace=True)"
      ],
      "execution_count": null,
      "outputs": []
    },
    {
      "cell_type": "markdown",
      "metadata": {
        "id": "yQERBNE2K-yx",
        "colab_type": "text"
      },
      "source": [
        "Merge both aggregated/pivot tables 'previous' and 'current'"
      ]
    },
    {
      "cell_type": "code",
      "metadata": {
        "id": "yFGFkp2qsOF-",
        "colab_type": "code",
        "colab": {}
      },
      "source": [
        "#Merge both pre and current tables\n",
        "all_codes = pd.merge(pivot_table_pre,\\\n",
        "                            pivot_table_current,\\\n",
        "                            suffixes=('_prev', '_current'),\\\n",
        "                            on='Status Code',\\\n",
        "                            how='outer')\n",
        "#Replace N/A by '0'\n",
        "all_codes.fillna(0, inplace=True)\n",
        "#Create a 'diff' column to highlight previous vs current status codes count\n",
        "all_codes['Diff'] = all_codes['Count_current'] - all_codes['Count_prev']\n",
        "#Add numeric index\n",
        "all_codes = all_codes.reset_index()"
      ],
      "execution_count": null,
      "outputs": []
    },
    {
      "cell_type": "markdown",
      "metadata": {
        "id": "iLxZzb-GLSHn",
        "colab_type": "text"
      },
      "source": [
        "Paste the output into the new 'Overviews' tab "
      ]
    },
    {
      "cell_type": "code",
      "metadata": {
        "id": "3UWmudWek3fj",
        "colab_type": "code",
        "colab": {}
      },
      "source": [
        "#Now let's add a new worksheet with a title\n",
        "wks = sh.add_worksheet('Crawl Master')\n",
        "#Append a DataFrame in our new worksheet\n",
        "wks.set_dataframe(all_codes, 'A1',fit=False)"
      ],
      "execution_count": null,
      "outputs": []
    },
    {
      "cell_type": "markdown",
      "metadata": {
        "id": "yTg2lJ7kLSc-",
        "colab_type": "text"
      },
      "source": [
        "Create a 'Status Codes Overview' chart"
      ]
    },
    {
      "cell_type": "code",
      "metadata": {
        "id": "2dkctU8MnbrX",
        "colab_type": "code",
        "colab": {
          "base_uri": "https://localhost:8080/",
          "height": 35
        },
        "outputId": "580f25df-7d42-4c5f-94cd-64427392ebe0"
      },
      "source": [
        "#Create a chart for status codes\n",
        "wks.add_chart(('A1', 'A10'), [('B1', 'B10'), ('C1', 'C10')], 'Status Codes Overview')"
      ],
      "execution_count": null,
      "outputs": [
        {
          "output_type": "execute_result",
          "data": {
            "text/plain": [
              "<Chart COLUMN 'Status Codes Overview'>"
            ]
          },
          "metadata": {
            "tags": []
          },
          "execution_count": 75
        }
      ]
    },
    {
      "cell_type": "markdown",
      "metadata": {
        "id": "k-t7lau8KjQN",
        "colab_type": "text"
      },
      "source": [
        "## Indexation overview"
      ]
    },
    {
      "cell_type": "markdown",
      "metadata": {
        "id": "nUab4BFRLTDl",
        "colab_type": "text"
      },
      "source": [
        "Create an aggregated table for pre/post indexation count"
      ]
    },
    {
      "cell_type": "code",
      "metadata": {
        "id": "NYOyFZmxPpQu",
        "colab_type": "code",
        "colab": {}
      },
      "source": [
        "#Create a pivot table\n",
        "Index_Overview = pd.pivot_table(changed_indexation_all, index='diff', aggfunc='count')\n",
        "#Add numeric index\n",
        "Index_Overview = Index_Overview.reset_index()\n",
        "#Remove unwanted columns\n",
        "Index_Overview = Index_Overview[['Address']]\n",
        "#Rename column\n",
        "Index_Overview.rename(columns={'Address':'# Indexable URLs changed'}, inplace=True)\n",
        "#Now let's add a new worksheet with a title\n",
        "wks = sh.add_worksheet('Hidden placeholder')\n",
        "#Append the DataFrame in the Overview worksheet\n",
        "wks.set_dataframe(Index_Overview, 'A1',fit=False)"
      ],
      "execution_count": null,
      "outputs": []
    },
    {
      "cell_type": "markdown",
      "metadata": {
        "colab_type": "text",
        "id": "MawCjpjRykSG"
      },
      "source": [
        "##Canonical overview"
      ]
    },
    {
      "cell_type": "markdown",
      "metadata": {
        "id": "sH-VRQutLSze",
        "colab_type": "text"
      },
      "source": [
        "Create an aggregated table for pre/post indexation count"
      ]
    },
    {
      "cell_type": "code",
      "metadata": {
        "id": "spXje8_oHG-T",
        "colab_type": "code",
        "colab": {}
      },
      "source": [
        "#Create a pivot table\n",
        "Cano_Overview = pd.pivot_table(changed_cano_all, index='diff_cano', aggfunc='count')\n",
        "#Add numeric index\n",
        "Cano_Overview = Cano_Overview.reset_index()\n",
        "#Remove unwanted columns\n",
        "Cano_Overview = Cano_Overview[['Canonical Link Element 1_current']]\n",
        "'''try:\n",
        "    Cano_Overview = Cano_Overview[['Canonical Link Element 1_current']]\n",
        "except KeyError:\n",
        "    print(\"no canonical data in the data set\")'''\n",
        "#Rename column\n",
        "Cano_Overview.rename(columns={'Canonical Link Element 1_current':'# Canos changed'}, inplace=True)\n",
        "#Select the 'Hidden placeholder' worksheet\n",
        "wks = sh.worksheet_by_title('Hidden placeholder')\n",
        "#Append the DataFrame in the Overview worksheet\n",
        "wks.set_dataframe(Cano_Overview, 'B1',fit=False)"
      ],
      "execution_count": null,
      "outputs": []
    },
    {
      "cell_type": "markdown",
      "metadata": {
        "id": "vHLIkCWmx8f9",
        "colab_type": "text"
      },
      "source": [
        "##Meta title overview"
      ]
    },
    {
      "cell_type": "markdown",
      "metadata": {
        "id": "eHUvnORNRC30",
        "colab_type": "text"
      },
      "source": [
        "Create an aggregated table for title tags count"
      ]
    },
    {
      "cell_type": "code",
      "metadata": {
        "id": "YabFcFhFeEVj",
        "colab_type": "code",
        "colab": {}
      },
      "source": [
        "#Create a pivot table\n",
        "TitlesOverview = pd.pivot_table(changed_title_all, index='diff_title', aggfunc='count')\n",
        "#Add numeric index\n",
        "TitlesOverview = TitlesOverview.reset_index()\n",
        "try:\n",
        "    #Remove unwanted columns\n",
        "    TitlesOverview = TitlesOverview[['Title 1_current']]\n",
        "except KeyError:\n",
        "    print(\"no title data in the data set\")\n",
        "#Rename column\n",
        "TitlesOverview.rename(columns={'Title 1_current':'# Titles changed'}, inplace=True)\n",
        "# Select the Overview worksheet\n",
        "wks = sh.worksheet_by_title('Hidden placeholder')\n",
        "#Append the DataFrame in the Overview worksheet\n",
        "wks.set_dataframe(TitlesOverview,'C1',fit=False)"
      ],
      "execution_count": null,
      "outputs": []
    },
    {
      "cell_type": "markdown",
      "metadata": {
        "colab_type": "text",
        "id": "cuO3x7wpx_ZJ"
      },
      "source": [
        "##Meta description overview"
      ]
    },
    {
      "cell_type": "markdown",
      "metadata": {
        "id": "3XD8LZ9uRegj",
        "colab_type": "text"
      },
      "source": [
        "Create an aggregated table for pre/post indexation count"
      ]
    },
    {
      "cell_type": "code",
      "metadata": {
        "colab_type": "code",
        "id": "CFWRY7APx_ZM",
        "colab": {}
      },
      "source": [
        "#Create a pivot table\n",
        "DescrOverview = pd.pivot_table(changed_desc_all, index='diff_desc', aggfunc='count')\n",
        "#Add numeric index\n",
        "DescrOverview = DescrOverview.reset_index()\n",
        "try:\n",
        "    #Remove unwanted columns\n",
        "    DescrOverview = DescrOverview[['Meta Description 1_current']]\n",
        "except KeyError:\n",
        "    print(\"no description data in the data set\")\n",
        "#Rename column\n",
        "DescrOverview.rename(columns={'Meta Description 1_current':'# Descr. changed'}, inplace=True)\n",
        "#Select the 'Hidden placeholder' worksheet\n",
        "wks = sh.worksheet_by_title('Hidden placeholder')\n",
        "#Append the DataFrame in the Overview worksheet\n",
        "wks.set_dataframe(DescrOverview,'D1',fit=False)"
      ],
      "execution_count": null,
      "outputs": []
    },
    {
      "cell_type": "markdown",
      "metadata": {
        "id": "KCSzwPf_uyhp",
        "colab_type": "text"
      },
      "source": [
        "##H1 overview"
      ]
    },
    {
      "cell_type": "markdown",
      "metadata": {
        "id": "XSJZyB0LOcQr",
        "colab_type": "text"
      },
      "source": [
        "Create an aggregated table for pre/post H1 count"
      ]
    },
    {
      "cell_type": "code",
      "metadata": {
        "colab_type": "code",
        "id": "og5nY3KV-hDe",
        "colab": {}
      },
      "source": [
        "#Create a pivot table\n",
        "H1_Overview = pd.pivot_table(changed_h1_all, index='diff_h1', aggfunc='count')\n",
        "#Add numeric index\n",
        "H1_Overview = H1_Overview.reset_index()\n",
        "try:\n",
        "    #Remove unwanted columns\n",
        "    H1_Overview = H1_Overview[['H1-1_current']]\n",
        "except KeyError:\n",
        "    print(\"no H1 data in the data set\")\n",
        "#Rename column\n",
        "H1_Overview.rename(columns={'H1-1_current':'# H1s changed'}, inplace=True)\n",
        "# Select the Overview worksheet\n",
        "wks = sh.worksheet_by_title('Hidden placeholder')\n",
        "#Append the DataFrame in the Overview worksheet\n",
        "wks.set_dataframe(H1_Overview, 'E1',fit=False)"
      ],
      "execution_count": null,
      "outputs": []
    },
    {
      "cell_type": "markdown",
      "metadata": {
        "colab_type": "text",
        "id": "gRlX8vJKyk18"
      },
      "source": [
        "##H2.1 overview"
      ]
    },
    {
      "cell_type": "code",
      "metadata": {
        "id": "C1-Nn-AlKw-4",
        "colab_type": "code",
        "colab": {}
      },
      "source": [
        "#Create a pivot table\n",
        "H2_1_Overview = pd.pivot_table(changed_h2_1_all, index='diff_h2_1', aggfunc='count')\n",
        "#Add numeric index\n",
        "H2_1_Overview = H2_1_Overview.reset_index()\n",
        "try:\n",
        "    #Remove unwanted columns\n",
        "    H2_1_Overview = H2_1_Overview[['H2-1_current']]\n",
        "except KeyError:\n",
        "    print(\"no H2_1 data in the data set\")\n",
        "#Rename column\n",
        "H2_1_Overview.rename(columns={'H2-1_current':'# H2s(1) changed'}, inplace=True)\n",
        "# Select the Overview worksheet\n",
        "wks = sh.worksheet_by_title('Hidden placeholder')\n",
        "#Append the DataFrame in the Overview worksheet\n",
        "wks.set_dataframe(H2_1_Overview, 'F1',fit=False)"
      ],
      "execution_count": null,
      "outputs": []
    },
    {
      "cell_type": "markdown",
      "metadata": {
        "colab_type": "text",
        "id": "UVQFexqpFzuC"
      },
      "source": [
        "##H2.2 overview"
      ]
    },
    {
      "cell_type": "code",
      "metadata": {
        "colab_type": "code",
        "id": "rQX1mGqfFzuE",
        "colab": {}
      },
      "source": [
        "#Create a pivot table\n",
        "H2_2_Overview = pd.pivot_table(changed_h2_2_all, index='diff_h2_2', aggfunc='count')\n",
        "#Add numeric index\n",
        "H2_2_Overview = H2_2_Overview.reset_index()\n",
        "try:\n",
        "    #Remove unwanted columns\n",
        "    H2_2_Overview = H2_2_Overview[['H2-2_current']]\n",
        "except KeyError:\n",
        "    print(\"no H2_2 data in the data set\")\n",
        "#Rename column\n",
        "H2_2_Overview.rename(columns={'H2-2_current':'# H2s(2) changed'}, inplace=True)\n",
        "# Select the Overview worksheet\n",
        "wks = sh.worksheet_by_title('Hidden placeholder')\n",
        "#Append the DataFrame in the Overview worksheet\n",
        "wks.set_dataframe(H2_2_Overview, 'G1',fit=False)"
      ],
      "execution_count": null,
      "outputs": []
    },
    {
      "cell_type": "markdown",
      "metadata": {
        "id": "KaAeWChjm7CG",
        "colab_type": "text"
      },
      "source": [
        "# Part IV: Formatting tables & plotting charts  "
      ]
    },
    {
      "cell_type": "markdown",
      "metadata": {
        "colab_type": "text",
        "id": "1FbKWo9S_A7F"
      },
      "source": [
        "## Mark-ups table formating + plotting "
      ]
    },
    {
      "cell_type": "code",
      "metadata": {
        "id": "J7uFk_fPoKuM",
        "colab_type": "code",
        "colab": {}
      },
      "source": [
        "wks = sh.worksheet_by_title('Hidden placeholder')\n",
        "#Fetch the data from Google sheets, then re-convert into a dataframe we will call df_new\n",
        "values_mat = wks.get_values(start=(1,1), end=(20,20), returnas='matrix')\n",
        "cell_matrix = wks.get_all_values(returnas='matrix')\n",
        "#create df_new\n",
        "df_new = pd.DataFrame.from_records(values_mat)\n",
        "#Make the 1st row a header\n",
        "df_new.columns = df_new.iloc[0]\n",
        "df_new = df_new[1:]\n",
        "#remove unwanted columns (only retains columns containing the word 'changed')\n",
        "df_new = df_new.filter(regex='changed')\n",
        "#transpose table\n",
        "df_new = df_new.transpose()\n",
        "#Reset index\n",
        "df_new = df_new.reset_index()\n",
        "#Add Column names\n",
        "df_new.rename(columns={ df_new.columns[0]: \"SEO Mark-up\" }, inplace = True)\n",
        "df_new.rename(columns={ df_new.columns[1]: \"Changed\" }, inplace = True)\n",
        "df_new.rename(columns={ df_new.columns[2]: \"Unchanged\" }, inplace = True)\n",
        "\n",
        "'''try:\n",
        "    #Remove unwanted columns\n",
        "    df_new.rename(columns={ df_new.columns[2]: \"Unchanged\" }, inplace = True)\n",
        "except IndexError:\n",
        "    print(\"\")'''\n",
        "\n",
        "#Hide the placeholder tab\n",
        "wks.hidden = True\n",
        "#Select the 'Crawl Master' tab\n",
        "wks = sh.worksheet_by_title('Crawl Master')\n",
        "#Create the chart for the 2nd table\n",
        "wks.set_dataframe(df_new, 'H1',fit=False)\n",
        "wks.add_chart(('H1', 'H10'), [('J1', 'J10'), ('I1', 'I10')], 'Mark-up Changes Overview')\n",
        "#Make the 'Crawl Master' tab the 1st tab in the workbook\n",
        "wks.index = 0 # index start at 1 , not 0\n",
        "wks = sh.worksheet_by_title('Crawl Master')\n",
        "#Insert rows\n",
        "wks.insert_rows(row=0, number=7)\n",
        "#Adjust_column_width\n",
        "wks.adjust_column_width(7, 8, pixel_size=200)"
      ],
      "execution_count": null,
      "outputs": []
    },
    {
      "cell_type": "markdown",
      "metadata": {
        "id": "iSAYNpl8LX1M",
        "colab_type": "text"
      },
      "source": [
        "##Adding titles & subtitles\n"
      ]
    },
    {
      "cell_type": "markdown",
      "metadata": {
        "id": "dkyUERzXNMTF",
        "colab_type": "text"
      },
      "source": [
        "Add the main title\n"
      ]
    },
    {
      "cell_type": "code",
      "metadata": {
        "id": "Cms27-qwLVCQ",
        "colab_type": "code",
        "colab": {}
      },
      "source": [
        "c1 = wks.cell('A2')\n",
        "#Set text value\n",
        "c1.value = 'Crawl Master'\n",
        "#Set font size\n",
        "c1.set_text_format('fontSize', 20)\n",
        "#Set font style = bold\n",
        "c1.text_format['bold'] = True\n",
        "#Align title 'left' \n",
        "c1.horizontal_alignment = pygsheets.custom_types.HorizontalAlignment.LEFT\n",
        "#Update cell\n",
        "c1.update()"
      ],
      "execution_count": null,
      "outputs": []
    },
    {
      "cell_type": "markdown",
      "metadata": {
        "id": "iU9oP7GwNYIR",
        "colab_type": "text"
      },
      "source": [
        "Add the main subtitle"
      ]
    },
    {
      "cell_type": "code",
      "metadata": {
        "id": "NR1FrWefLVfs",
        "colab_type": "code",
        "colab": {}
      },
      "source": [
        "c2 = wks.cell('A3')\n",
        "#Set text value\n",
        "c2.value = 'Comparison between previous crawl and current crawl'\n",
        "#Set font size\n",
        "c2.set_text_format('fontSize', 12)\n",
        "#Align subtitle 'left' \n",
        "c2.horizontal_alignment = pygsheets.custom_types.HorizontalAlignment.LEFT\n",
        "#Update cell\n",
        "c2.update()"
      ],
      "execution_count": null,
      "outputs": []
    },
    {
      "cell_type": "markdown",
      "metadata": {
        "id": "V2e8SyXuR60g",
        "colab_type": "text"
      },
      "source": [
        "Add a title to the left-hand table"
      ]
    },
    {
      "cell_type": "code",
      "metadata": {
        "id": "qGZ7GJzOLV3O",
        "colab_type": "code",
        "colab": {}
      },
      "source": [
        "c3 = wks.cell('A6')\n",
        "#Set text value\n",
        "c3.value = 'Status Codes Overview'\n",
        "#Set font size\n",
        "c3.set_text_format('fontSize', 13)\n",
        "#Set font style = bold\n",
        "c3.text_format['bold'] = True\n",
        "#Align title 'left' \n",
        "c3.horizontal_alignment = pygsheets.custom_types.HorizontalAlignment.LEFT\n",
        "#Update cell\n",
        "c3.update()"
      ],
      "execution_count": null,
      "outputs": []
    },
    {
      "cell_type": "markdown",
      "metadata": {
        "id": "RwP8qr7doO9p",
        "colab_type": "text"
      },
      "source": [
        "Add a subtitle to the left-hand table"
      ]
    },
    {
      "cell_type": "code",
      "metadata": {
        "id": "3Lfjoqfjn3Ez",
        "colab_type": "code",
        "colab": {}
      },
      "source": [
        "##Add a subtitle\n",
        "c3sub = wks.cell('A7')\n",
        "#Set text value\n",
        "c3sub.value = 'This overview spans all URLs (incl. non html and redirects)'\n",
        "#Set font size\n",
        "c3sub.set_text_format('fontSize', 10)\n",
        "#Set font style = bold\n",
        "c3sub.text_format['italic'] = True\n",
        "#Align title 'left' \n",
        "c3sub.horizontal_alignment = pygsheets.custom_types.HorizontalAlignment.LEFT\n",
        "#Update cell\n",
        "c3sub.update()"
      ],
      "execution_count": null,
      "outputs": []
    },
    {
      "cell_type": "markdown",
      "metadata": {
        "id": "zzZ9W3dCSKuB",
        "colab_type": "text"
      },
      "source": [
        "Add 'Diff (in %)' heading\n"
      ]
    },
    {
      "cell_type": "code",
      "metadata": {
        "id": "vBgVjP5kNkYw",
        "colab_type": "code",
        "colab": {}
      },
      "source": [
        "e8 = wks.cell('E8')\n",
        "#Set text value\n",
        "e8.value = 'Diff (in %)'"
      ],
      "execution_count": null,
      "outputs": []
    },
    {
      "cell_type": "markdown",
      "metadata": {
        "id": "qpAS610m8VS_",
        "colab_type": "text"
      },
      "source": [
        "Add a title to the right-hand table"
      ]
    },
    {
      "cell_type": "code",
      "metadata": {
        "colab_type": "code",
        "id": "B7R9RYds8XO8",
        "colab": {}
      },
      "source": [
        "#Add a title\n",
        "c4 = wks.cell('H6')\n",
        "#Set text value\n",
        "c4.value = 'Mark-up Changes Overview'\n",
        "#Set font size\n",
        "c4.set_text_format('fontSize', 13)\n",
        "#Set font style = bold\n",
        "c4.text_format['bold'] = True\n",
        "#Align title 'left' \n",
        "c4.horizontal_alignment = pygsheets.custom_types.HorizontalAlignment.LEFT\n",
        "#Update cell\n",
        "c4.update()"
      ],
      "execution_count": null,
      "outputs": []
    },
    {
      "cell_type": "markdown",
      "metadata": {
        "colab_type": "text",
        "id": "yDy1wwXP8XO6"
      },
      "source": [
        "Add a subtitle to the right-hand table"
      ]
    },
    {
      "cell_type": "code",
      "metadata": {
        "id": "cdrc2KUTOR_b",
        "colab_type": "code",
        "colab": {}
      },
      "source": [
        "##Add a subtitle\n",
        "c4sub = wks.cell('H7')\n",
        "#Set text value\n",
        "c4sub.value = 'Mark-ups are only compared when URLs are available in both crawls'\n",
        "#Set font size\n",
        "c4sub.set_text_format('fontSize', 10)\n",
        "#Set font style = bold\n",
        "c4sub.text_format['italic'] = True\n",
        "#Align title 'left' \n",
        "c4sub.horizontal_alignment = pygsheets.custom_types.HorizontalAlignment.LEFT\n",
        "#Update cell\n",
        "c4sub.update()"
      ],
      "execution_count": null,
      "outputs": []
    },
    {
      "cell_type": "markdown",
      "metadata": {
        "colab_type": "text",
        "id": "5xdY8BO_8Znm"
      },
      "source": [
        "Add a 'Total' heading"
      ]
    },
    {
      "cell_type": "code",
      "metadata": {
        "id": "LBO8Uzo0OZP0",
        "colab_type": "code",
        "colab": {}
      },
      "source": [
        "## Add 'Total' heading\n",
        "k8 = wks.cell('K8')\n",
        "#Set text value\n",
        "k8.value = 'Total'"
      ],
      "execution_count": null,
      "outputs": []
    },
    {
      "cell_type": "markdown",
      "metadata": {
        "colab_type": "text",
        "id": "hLwHuKx58Zv9"
      },
      "source": [
        "Add '%age change' heading\n"
      ]
    },
    {
      "cell_type": "code",
      "metadata": {
        "id": "VN135-OyOZhw",
        "colab_type": "code",
        "colab": {}
      },
      "source": [
        "l8 = wks.cell('L8')\n",
        "#Set text value\n",
        "l8.value = '%age change*'"
      ],
      "execution_count": null,
      "outputs": []
    },
    {
      "cell_type": "markdown",
      "metadata": {
        "colab_type": "text",
        "id": "8w4QQM_Q8Zv-"
      },
      "source": [
        "Right-hand table's 'Nota Bene'\n"
      ]
    },
    {
      "cell_type": "code",
      "metadata": {
        "id": "NDYalRejOZto",
        "colab_type": "code",
        "colab": {}
      },
      "source": [
        "c4NB = wks.cell('L7')\n",
        "#Set text value\n",
        "c4NB.value = '*vs total (K)'\n",
        "#Set font size\n",
        "c4NB.set_text_format('fontSize', 10)\n",
        "#Set font style = bold\n",
        "c4NB.text_format['italic'] = True\n",
        "#Align title 'left' \n",
        "c4NB.horizontal_alignment = pygsheets.custom_types.HorizontalAlignment.CENTER\n",
        "#Update cell\n",
        "c4NB.update()"
      ],
      "execution_count": null,
      "outputs": []
    },
    {
      "cell_type": "markdown",
      "metadata": {
        "id": "fQoMOivQMRVL",
        "colab_type": "text"
      },
      "source": [
        "## Add sum and percentage formulas \n"
      ]
    },
    {
      "cell_type": "markdown",
      "metadata": {
        "id": "i7zUOiN1QaSR",
        "colab_type": "text"
      },
      "source": [
        "Create Sum formulas\n"
      ]
    },
    {
      "cell_type": "code",
      "metadata": {
        "id": "_6Eu_bo8MTeU",
        "colab_type": "code",
        "colab": {}
      },
      "source": [
        "#Get a range of cells\n",
        "ck9 = wks.cell('K9')\n",
        "ck10 = wks.cell('K10')\n",
        "ck11 = wks.cell('K11')\n",
        "ck12 = wks.cell('K12')\n",
        "ck13 = wks.cell('K13')\n",
        "ck14 = wks.cell('K14')\n",
        "ck15 = wks.cell('K15')\n",
        "\n",
        "#Apply sum formulas to the range of cells above\n",
        "ck9.formula = 'I9+J9'\n",
        "ck10.formula = 'I10+J10'\n",
        "ck11.formula = 'I11+J11'\n",
        "ck12.formula = 'I12+J12'\n",
        "ck13.formula = 'I13+J13'\n",
        "ck14.formula = 'I14+J14'\n",
        "ck15.formula = 'I15+J15'"
      ],
      "execution_count": null,
      "outputs": []
    },
    {
      "cell_type": "markdown",
      "metadata": {
        "id": "rZ-eKK3bRCDq",
        "colab_type": "text"
      },
      "source": [
        "Create Percentage formulas for right-hand table\n"
      ]
    },
    {
      "cell_type": "code",
      "metadata": {
        "id": "wBBEfL5cPjIT",
        "colab_type": "code",
        "colab": {}
      },
      "source": [
        "#Get the range of cells\n",
        "cl9 = wks.cell('L9')\n",
        "cl10 = wks.cell('L10')\n",
        "cl11 = wks.cell('L11')\n",
        "cl12 = wks.cell('L12')\n",
        "cl13 = wks.cell('L13')\n",
        "cl14 = wks.cell('L14')\n",
        "cl15 = wks.cell('L15')\n",
        "\n",
        "#Apply %age formulas to the range of cells\n",
        "cl9.formula = 'I9/K9'\n",
        "cl10.formula = 'I10/K10'\n",
        "cl11.formula = 'I11/K11'\n",
        "cl12.formula = 'I12/K12'\n",
        "cl13.formula = 'I13/K13'\n",
        "cl14.formula = 'I14/K14'\n",
        "cl15.formula = 'I15/K15'"
      ],
      "execution_count": null,
      "outputs": []
    },
    {
      "cell_type": "markdown",
      "metadata": {
        "id": "9D1Y2zN7RBgO",
        "colab_type": "text"
      },
      "source": [
        "Create Percentage formulas to left hand table"
      ]
    },
    {
      "cell_type": "code",
      "metadata": {
        "id": "nXzVAO0lPjhn",
        "colab_type": "code",
        "colab": {}
      },
      "source": [
        "#Get the range of cells\n",
        "ce9 = wks.cell('E9')\n",
        "ce10 = wks.cell('E10')\n",
        "ce11 = wks.cell('E11')\n",
        "ce12 = wks.cell('E12')\n",
        "ce13 = wks.cell('E13')\n",
        "ce14 = wks.cell('E14')\n",
        "ce15 = wks.cell('E15')\n",
        "ce16 = wks.cell('E16')\n",
        "ce17 = wks.cell('E17')\n",
        "\n",
        "#Apply %age formulas to the range of cells\n",
        "ce9.formula = 'IF(B9=\"\",\"\",IFERROR(((C9-B9)/B9),\"n/a\"))'\n",
        "ce10.formula = 'IF(B10=\"\",\"\",IFERROR(((C10-B10)/B10),\"n/a\"))'\n",
        "ce11.formula = 'IF(B11=\"\",\"\",IFERROR(((C11-B11)/B11),\"n/a\"))'\n",
        "ce12.formula = 'IF(B12=\"\",\"\",IFERROR(((C12-B12)/B12),\"n/a\"))'\n",
        "ce13.formula = 'IF(B13=\"\",\"\",IFERROR(((C13-B13)/B13),\"n/a\"))'\n",
        "ce14.formula = 'IF(B14=\"\",\"\",IFERROR(((C14-B14)/B14),\"n/a\"))'\n",
        "ce15.formula = 'IF(B15=\"\",\"\",IFERROR(((C15-B15)/B15),\"n/a\"))'\n",
        "ce16.formula = 'IF(B16=\"\",\"\",IFERROR(((C16-B16)/B16),\"n/a\"))'\n",
        "ce17.formula = 'IF(B17=\"\",\"\",IFERROR(((C17-B17)/B17),\"n/a\"))'"
      ],
      "execution_count": null,
      "outputs": []
    },
    {
      "cell_type": "markdown",
      "metadata": {
        "id": "NgF6hLpOMiO4",
        "colab_type": "text"
      },
      "source": [
        "## Final formatting bits \n"
      ]
    },
    {
      "cell_type": "markdown",
      "metadata": {
        "id": "hVJ4gYKSL4wl",
        "colab_type": "text"
      },
      "source": [
        "Percentage formatting"
      ]
    },
    {
      "cell_type": "code",
      "metadata": {
        "id": "pWFb_HoSLWU8",
        "colab_type": "code",
        "colab": {}
      },
      "source": [
        "\n",
        "model_cell4 = wks.cell('N1')\n",
        "model_cell4.set_number_format(pygsheets.FormatType.NUMBER, '0.0%')\n",
        "model_cell4.horizontal_alignment = pygsheets.custom_types.HorizontalAlignment.CENTER\n",
        "wks.range('E9:E17', returnas='range').apply_format(model_cell4)\n",
        "wks.range('L9:L17', returnas='range').apply_format(model_cell4)"
      ],
      "execution_count": null,
      "outputs": []
    },
    {
      "cell_type": "markdown",
      "metadata": {
        "colab_type": "text",
        "id": "-wwu-zWiMBFz"
      },
      "source": [
        "Tables' headers formatting"
      ]
    },
    {
      "cell_type": "code",
      "metadata": {
        "id": "WDrrqO3tMTwN",
        "colab_type": "code",
        "colab": {}
      },
      "source": [
        "model_cell = wks.cell('A8')\n",
        "model_cell.set_text_format('bold', True)\n",
        "model_cell.color = (0.88,0.88,0.88)\n",
        "model_cell.horizontal_alignment = pygsheets.custom_types.HorizontalAlignment.CENTER\n",
        "wks.range('B8:E8', returnas='range').apply_format(model_cell)\n",
        "wks.range('H8:L8', returnas='range').apply_format(model_cell)"
      ],
      "execution_count": null,
      "outputs": []
    },
    {
      "cell_type": "markdown",
      "metadata": {
        "colab_type": "text",
        "id": "RTThfF_xMI5h"
      },
      "source": [
        "Numbers formatting (add commas)\n"
      ]
    },
    {
      "cell_type": "code",
      "metadata": {
        "id": "EfXfGK4PMTsH",
        "colab_type": "code",
        "colab": {}
      },
      "source": [
        "model_cell2 = wks.cell('B10')\n",
        "model_cell2.set_number_format(pygsheets.FormatType.NUMBER, '#,##0_);(#,##0)')\n",
        "wks.range('B9:C18', returnas='range').apply_format(model_cell2)\n",
        "wks.range('I9:J18', returnas='range').apply_format(model_cell2)"
      ],
      "execution_count": null,
      "outputs": []
    }
  ]
}